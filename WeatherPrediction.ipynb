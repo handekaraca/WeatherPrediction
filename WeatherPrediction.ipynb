{
  "nbformat": 4,
  "nbformat_minor": 0,
  "metadata": {
    "colab": {
      "provenance": [],
      "authorship_tag": "ABX9TyPl9ZQ4NyPekllt4GY4qdi/",
      "include_colab_link": true
    },
    "kernelspec": {
      "name": "python3",
      "display_name": "Python 3"
    },
    "language_info": {
      "name": "python"
    }
  },
  "cells": [
    {
      "cell_type": "markdown",
      "metadata": {
        "id": "view-in-github",
        "colab_type": "text"
      },
      "source": [
        "<a href=\"https://colab.research.google.com/github/handekaraca/WeatherPrediction/blob/main/WeatherPrediction.ipynb\" target=\"_parent\"><img src=\"https://colab.research.google.com/assets/colab-badge.svg\" alt=\"Open In Colab\"/></a>"
      ]
    },
    {
      "cell_type": "code",
      "execution_count": 1,
      "metadata": {
        "colab": {
          "base_uri": "https://localhost:8080/"
        },
        "id": "gT5ZomCiTkn3",
        "outputId": "89d33cca-c361-4074-9884-a7c0dc08e7aa"
      },
      "outputs": [
        {
          "output_type": "stream",
          "name": "stdout",
          "text": [
            "Downloading from https://www.kaggle.com/api/v1/datasets/download/ananthr1/weather-prediction?dataset_version_number=1...\n"
          ]
        },
        {
          "output_type": "stream",
          "name": "stderr",
          "text": [
            "100%|██████████| 11.5k/11.5k [00:00<00:00, 15.7MB/s]"
          ]
        },
        {
          "output_type": "stream",
          "name": "stdout",
          "text": [
            "Extracting files...\n",
            "Path to dataset files: /root/.cache/kagglehub/datasets/ananthr1/weather-prediction/versions/1\n"
          ]
        },
        {
          "output_type": "stream",
          "name": "stderr",
          "text": [
            "\n"
          ]
        }
      ],
      "source": [
        "import kagglehub\n",
        "path = kagglehub.dataset_download(\"ananthr1/weather-prediction\")\n",
        "print(\"Path to dataset files:\", path)"
      ]
    },
    {
      "cell_type": "code",
      "source": [
        "!apt-get install openjdk-8-jdk-headless -qq > /dev/null\n",
        "!pip install pyspark"
      ],
      "metadata": {
        "colab": {
          "base_uri": "https://localhost:8080/"
        },
        "id": "DTb74UvSURYd",
        "outputId": "e6c717c0-c741-4439-cedc-dbac4b9e91a4"
      },
      "execution_count": 2,
      "outputs": [
        {
          "output_type": "stream",
          "name": "stdout",
          "text": [
            "Requirement already satisfied: pyspark in /usr/local/lib/python3.10/dist-packages (3.5.3)\n",
            "Requirement already satisfied: py4j==0.10.9.7 in /usr/local/lib/python3.10/dist-packages (from pyspark) (0.10.9.7)\n"
          ]
        }
      ]
    },
    {
      "cell_type": "code",
      "source": [
        "from pyspark.sql import SparkSession\n",
        "\n",
        "# SparkSession\n",
        "spark = SparkSession.builder \\\n",
        "    .appName(\"Weather Prediction Model\") \\\n",
        "    .getOrCreate()\n",
        "\n",
        "file_path = f\"{path}/seattle-weather.csv\"\n",
        "weather_df = spark.read.csv(file_path, header=True, inferSchema=True)\n",
        "weather_df.show()\n"
      ],
      "metadata": {
        "colab": {
          "base_uri": "https://localhost:8080/"
        },
        "id": "6li_p4JaUaeg",
        "outputId": "ee147e40-87e7-4054-8cab-02db58a802e9"
      },
      "execution_count": 3,
      "outputs": [
        {
          "output_type": "stream",
          "name": "stdout",
          "text": [
            "+----------+-------------+--------+--------+----+-------+\n",
            "|      date|precipitation|temp_max|temp_min|wind|weather|\n",
            "+----------+-------------+--------+--------+----+-------+\n",
            "|2012-01-01|          0.0|    12.8|     5.0| 4.7|drizzle|\n",
            "|2012-01-02|         10.9|    10.6|     2.8| 4.5|   rain|\n",
            "|2012-01-03|          0.8|    11.7|     7.2| 2.3|   rain|\n",
            "|2012-01-04|         20.3|    12.2|     5.6| 4.7|   rain|\n",
            "|2012-01-05|          1.3|     8.9|     2.8| 6.1|   rain|\n",
            "|2012-01-06|          2.5|     4.4|     2.2| 2.2|   rain|\n",
            "|2012-01-07|          0.0|     7.2|     2.8| 2.3|   rain|\n",
            "|2012-01-08|          0.0|    10.0|     2.8| 2.0|    sun|\n",
            "|2012-01-09|          4.3|     9.4|     5.0| 3.4|   rain|\n",
            "|2012-01-10|          1.0|     6.1|     0.6| 3.4|   rain|\n",
            "|2012-01-11|          0.0|     6.1|    -1.1| 5.1|    sun|\n",
            "|2012-01-12|          0.0|     6.1|    -1.7| 1.9|    sun|\n",
            "|2012-01-13|          0.0|     5.0|    -2.8| 1.3|    sun|\n",
            "|2012-01-14|          4.1|     4.4|     0.6| 5.3|   snow|\n",
            "|2012-01-15|          5.3|     1.1|    -3.3| 3.2|   snow|\n",
            "|2012-01-16|          2.5|     1.7|    -2.8| 5.0|   snow|\n",
            "|2012-01-17|          8.1|     3.3|     0.0| 5.6|   snow|\n",
            "|2012-01-18|         19.8|     0.0|    -2.8| 5.0|   snow|\n",
            "|2012-01-19|         15.2|    -1.1|    -2.8| 1.6|   snow|\n",
            "|2012-01-20|         13.5|     7.2|    -1.1| 2.3|   snow|\n",
            "+----------+-------------+--------+--------+----+-------+\n",
            "only showing top 20 rows\n",
            "\n"
          ]
        }
      ]
    },
    {
      "cell_type": "code",
      "source": [
        "weather_df.printSchema()\n",
        "\n",
        "selected_columns = [\"date\", \"precipitation\", \"temp_max\", \"temp_min\", \"wind\", \"weather\"]\n",
        "weather_df = weather_df.select(*selected_columns)\n",
        "\n",
        "weather_df = weather_df.na.drop()\n",
        "\n",
        "from pyspark.ml.feature import StringIndexer\n",
        "\n",
        "indexer = StringIndexer(inputCol=\"weather\", outputCol=\"label\")\n",
        "weather_df = indexer.fit(weather_df).transform(weather_df)\n",
        "\n",
        "weather_df.show()"
      ],
      "metadata": {
        "colab": {
          "base_uri": "https://localhost:8080/"
        },
        "id": "57_emclgVnvK",
        "outputId": "b694438c-b355-4ee0-89e3-758a91ed821a"
      },
      "execution_count": 5,
      "outputs": [
        {
          "output_type": "stream",
          "name": "stdout",
          "text": [
            "root\n",
            " |-- date: date (nullable = true)\n",
            " |-- precipitation: double (nullable = true)\n",
            " |-- temp_max: double (nullable = true)\n",
            " |-- temp_min: double (nullable = true)\n",
            " |-- wind: double (nullable = true)\n",
            " |-- weather: string (nullable = true)\n",
            "\n",
            "+----------+-------------+--------+--------+----+-------+-----+\n",
            "|      date|precipitation|temp_max|temp_min|wind|weather|label|\n",
            "+----------+-------------+--------+--------+----+-------+-----+\n",
            "|2012-01-01|          0.0|    12.8|     5.0| 4.7|drizzle|  3.0|\n",
            "|2012-01-02|         10.9|    10.6|     2.8| 4.5|   rain|  0.0|\n",
            "|2012-01-03|          0.8|    11.7|     7.2| 2.3|   rain|  0.0|\n",
            "|2012-01-04|         20.3|    12.2|     5.6| 4.7|   rain|  0.0|\n",
            "|2012-01-05|          1.3|     8.9|     2.8| 6.1|   rain|  0.0|\n",
            "|2012-01-06|          2.5|     4.4|     2.2| 2.2|   rain|  0.0|\n",
            "|2012-01-07|          0.0|     7.2|     2.8| 2.3|   rain|  0.0|\n",
            "|2012-01-08|          0.0|    10.0|     2.8| 2.0|    sun|  1.0|\n",
            "|2012-01-09|          4.3|     9.4|     5.0| 3.4|   rain|  0.0|\n",
            "|2012-01-10|          1.0|     6.1|     0.6| 3.4|   rain|  0.0|\n",
            "|2012-01-11|          0.0|     6.1|    -1.1| 5.1|    sun|  1.0|\n",
            "|2012-01-12|          0.0|     6.1|    -1.7| 1.9|    sun|  1.0|\n",
            "|2012-01-13|          0.0|     5.0|    -2.8| 1.3|    sun|  1.0|\n",
            "|2012-01-14|          4.1|     4.4|     0.6| 5.3|   snow|  4.0|\n",
            "|2012-01-15|          5.3|     1.1|    -3.3| 3.2|   snow|  4.0|\n",
            "|2012-01-16|          2.5|     1.7|    -2.8| 5.0|   snow|  4.0|\n",
            "|2012-01-17|          8.1|     3.3|     0.0| 5.6|   snow|  4.0|\n",
            "|2012-01-18|         19.8|     0.0|    -2.8| 5.0|   snow|  4.0|\n",
            "|2012-01-19|         15.2|    -1.1|    -2.8| 1.6|   snow|  4.0|\n",
            "|2012-01-20|         13.5|     7.2|    -1.1| 2.3|   snow|  4.0|\n",
            "+----------+-------------+--------+--------+----+-------+-----+\n",
            "only showing top 20 rows\n",
            "\n"
          ]
        }
      ]
    },
    {
      "cell_type": "code",
      "source": [
        "from pyspark.ml.feature import VectorAssembler\n",
        "\n",
        "feature_columns = [\"precipitation\", \"temp_max\", \"temp_min\", \"wind\"]\n",
        "assembler = VectorAssembler(inputCols=feature_columns, outputCol=\"features\")\n",
        "\n",
        "weather_df = assembler.transform(weather_df)\n",
        "\n",
        "final_df = weather_df.select(\"features\", \"label\")\n",
        "\n",
        "final_df.show()"
      ],
      "metadata": {
        "colab": {
          "base_uri": "https://localhost:8080/"
        },
        "id": "Fu2mhw88WzXt",
        "outputId": "f808d607-57f6-4f5d-97bb-30711169ae81"
      },
      "execution_count": 6,
      "outputs": [
        {
          "output_type": "stream",
          "name": "stdout",
          "text": [
            "+--------------------+-----+\n",
            "|            features|label|\n",
            "+--------------------+-----+\n",
            "|  [0.0,12.8,5.0,4.7]|  3.0|\n",
            "| [10.9,10.6,2.8,4.5]|  0.0|\n",
            "|  [0.8,11.7,7.2,2.3]|  0.0|\n",
            "| [20.3,12.2,5.6,4.7]|  0.0|\n",
            "|   [1.3,8.9,2.8,6.1]|  0.0|\n",
            "|   [2.5,4.4,2.2,2.2]|  0.0|\n",
            "|   [0.0,7.2,2.8,2.3]|  0.0|\n",
            "|  [0.0,10.0,2.8,2.0]|  1.0|\n",
            "|   [4.3,9.4,5.0,3.4]|  0.0|\n",
            "|   [1.0,6.1,0.6,3.4]|  0.0|\n",
            "|  [0.0,6.1,-1.1,5.1]|  1.0|\n",
            "|  [0.0,6.1,-1.7,1.9]|  1.0|\n",
            "|  [0.0,5.0,-2.8,1.3]|  1.0|\n",
            "|   [4.1,4.4,0.6,5.3]|  4.0|\n",
            "|  [5.3,1.1,-3.3,3.2]|  4.0|\n",
            "|  [2.5,1.7,-2.8,5.0]|  4.0|\n",
            "|   [8.1,3.3,0.0,5.6]|  4.0|\n",
            "| [19.8,0.0,-2.8,5.0]|  4.0|\n",
            "|[15.2,-1.1,-2.8,1.6]|  4.0|\n",
            "| [13.5,7.2,-1.1,2.3]|  4.0|\n",
            "+--------------------+-----+\n",
            "only showing top 20 rows\n",
            "\n"
          ]
        }
      ]
    },
    {
      "cell_type": "code",
      "source": [
        "train_df, test_df = final_df.randomSplit([0.7, 0.3], seed=42)"
      ],
      "metadata": {
        "id": "3r-CudY9XKJ5"
      },
      "execution_count": 7,
      "outputs": []
    },
    {
      "cell_type": "code",
      "source": [
        "from pyspark.ml.classification import LogisticRegression\n",
        "\n",
        "lr = LogisticRegression(featuresCol=\"features\", labelCol=\"label\", maxIter=20)\n",
        "\n",
        "lr_model = lr.fit(train_df)\n",
        "\n",
        "print(\"Training is completed!\")\n"
      ],
      "metadata": {
        "colab": {
          "base_uri": "https://localhost:8080/"
        },
        "id": "pEUOVKqAXQIQ",
        "outputId": "5e68e78c-2c77-49ef-9e90-6b463130177b"
      },
      "execution_count": 10,
      "outputs": [
        {
          "output_type": "stream",
          "name": "stdout",
          "text": [
            "Training is completed!\n"
          ]
        }
      ]
    },
    {
      "cell_type": "code",
      "source": [
        "# Test\n",
        "predictions = lr_model.transform(test_df)\n",
        "\n",
        "predictions.select(\"features\", \"label\", \"prediction\").show()\n",
        "\n",
        "from pyspark.ml.evaluation import MulticlassClassificationEvaluator\n",
        "\n",
        "evaluator = MulticlassClassificationEvaluator(labelCol=\"label\", predictionCol=\"prediction\", metricName=\"accuracy\")\n",
        "accuracy = evaluator.evaluate(predictions)\n",
        "\n",
        "print(f\"Model Accuracy: {accuracy * 100:.2f}%\")\n"
      ],
      "metadata": {
        "colab": {
          "base_uri": "https://localhost:8080/"
        },
        "id": "3dXkEEVWXlKS",
        "outputId": "9947e35e-7b2f-468f-c5b9-5ed813f90ef7"
      },
      "execution_count": 11,
      "outputs": [
        {
          "output_type": "stream",
          "name": "stdout",
          "text": [
            "+------------------+-----+----------+\n",
            "|          features|label|prediction|\n",
            "+------------------+-----+----------+\n",
            "|[0.0,0.0,-7.1,3.1]|  1.0|       4.0|\n",
            "|[0.0,1.1,-0.6,1.9]|  3.0|       1.0|\n",
            "|[0.0,2.2,-6.6,2.2]|  1.0|       4.0|\n",
            "|[0.0,2.2,-4.4,1.5]|  1.0|       1.0|\n",
            "|[0.0,2.8,-2.8,1.9]|  3.0|       1.0|\n",
            "|[0.0,2.8,-2.1,4.7]|  1.0|       1.0|\n",
            "|[0.0,3.3,-4.9,4.2]|  1.0|       4.0|\n",
            "|[0.0,3.3,-1.7,0.6]|  3.0|       1.0|\n",
            "|[0.0,3.3,-1.1,2.0]|  3.0|       1.0|\n",
            "|[0.0,3.9,-2.8,1.0]|  3.0|       1.0|\n",
            "|[0.0,4.4,-3.2,2.2]|  1.0|       1.0|\n",
            "|[0.0,5.0,-2.8,1.3]|  1.0|       1.0|\n",
            "|[0.0,5.0,-2.8,2.7]|  1.0|       1.0|\n",
            "|[0.0,5.0,-1.6,0.8]|  1.0|       1.0|\n",
            "| [0.0,5.0,0.0,2.1]|  1.0|       1.0|\n",
            "| [0.0,5.0,1.7,1.7]|  2.0|       1.0|\n",
            "|[0.0,5.6,-3.2,1.2]|  1.0|       1.0|\n",
            "| [0.0,5.6,0.6,1.5]|  1.0|       1.0|\n",
            "|[0.0,6.1,-3.9,1.8]|  3.0|       1.0|\n",
            "|[0.0,6.1,-1.7,1.9]|  1.0|       1.0|\n",
            "+------------------+-----+----------+\n",
            "only showing top 20 rows\n",
            "\n",
            "Model Accuracy: 82.61%\n"
          ]
        }
      ]
    },
    {
      "cell_type": "code",
      "source": [
        "predictions = lr_model.transform(test_df)\n",
        "predictions_pd = predictions.select(\"label\", \"prediction\").toPandas()"
      ],
      "metadata": {
        "id": "TcLfEjvlYgNE"
      },
      "execution_count": 13,
      "outputs": []
    },
    {
      "cell_type": "code",
      "source": [
        "import matplotlib.pyplot as plt\n",
        "import seaborn as sns\n",
        "from sklearn.metrics import confusion_matrix, classification_report\n",
        "\n",
        "conf_matrix = confusion_matrix(predictions_pd['label'], predictions_pd['prediction'])\n",
        "\n",
        "plt.figure(figsize=(10, 6))\n",
        "sns.heatmap(conf_matrix, annot=True, fmt=\"d\", cmap=\"Blues\", cbar=False)\n",
        "plt.title(\"Confusion Matrix of Weather Classification\")\n",
        "plt.xlabel(\"Predicted Class\")\n",
        "plt.ylabel(\"Real Class\")\n",
        "plt.show()\n",
        "\n",
        "print(\"Classification Report:\")\n",
        "print(classification_report(predictions_pd['label'], predictions_pd['prediction']))\n"
      ],
      "metadata": {
        "colab": {
          "base_uri": "https://localhost:8080/",
          "height": 914
        },
        "id": "-pISzZBjYoe-",
        "outputId": "0d6353b7-1c8c-4cae-d842-b6bb5f0bcad0"
      },
      "execution_count": 17,
      "outputs": [
        {
          "output_type": "display_data",
          "data": {
            "text/plain": [
              "<Figure size 1000x600 with 1 Axes>"
            ],
            "image/png": "[encoded data removed]"
          },
          "metadata": {}
        },
        {
          "output_type": "stream",
          "name": "stdout",
          "text": [
            "Classification Report:\n",
            "              precision    recall  f1-score   support\n",
            "\n",
            "         0.0       0.97      0.89      0.93       179\n",
            "         1.0       0.73      0.98      0.84       164\n",
            "         2.0       0.00      0.00      0.00        24\n",
            "         3.0       0.00      0.00      0.00        16\n",
            "         4.0       0.50      0.38      0.43         8\n",
            "\n",
            "    accuracy                           0.83       391\n",
            "   macro avg       0.44      0.45      0.44       391\n",
            "weighted avg       0.76      0.83      0.78       391\n",
            "\n"
          ]
        },
        {
          "output_type": "stream",
          "name": "stderr",
          "text": [
            "/usr/local/lib/python3.10/dist-packages/sklearn/metrics/_classification.py:1531: UndefinedMetricWarning: Precision is ill-defined and being set to 0.0 in labels with no predicted samples. Use `zero_division` parameter to control this behavior.\n",
            "  _warn_prf(average, modifier, f\"{metric.capitalize()} is\", len(result))\n",
            "/usr/local/lib/python3.10/dist-packages/sklearn/metrics/_classification.py:1531: UndefinedMetricWarning: Precision is ill-defined and being set to 0.0 in labels with no predicted samples. Use `zero_division` parameter to control this behavior.\n",
            "  _warn_prf(average, modifier, f\"{metric.capitalize()} is\", len(result))\n",
            "/usr/local/lib/python3.10/dist-packages/sklearn/metrics/_classification.py:1531: UndefinedMetricWarning: Precision is ill-defined and being set to 0.0 in labels with no predicted samples. Use `zero_division` parameter to control this behavior.\n",
            "  _warn_prf(average, modifier, f\"{metric.capitalize()} is\", len(result))\n"
          ]
        }
      ]
    },
    {
      "cell_type": "code",
      "source": [
        "# Manual Test\n",
        "manual_classification_data = [Row(features=Vectors.dense([1.2, 18.0, 10.0, 7.0]))]\n",
        "\n",
        "manual_classification_df = spark.createDataFrame(manual_classification_data)\n",
        "manual_classification_prediction = lr_model.transform(manual_classification_df)\n",
        "manual_classification_prediction.show()\n"
      ],
      "metadata": {
        "colab": {
          "base_uri": "https://localhost:8080/"
        },
        "id": "VUPEyOc6a1Ly",
        "outputId": "b8a4b655-5ed0-4fb2-e465-b1abc0b45901"
      },
      "execution_count": 20,
      "outputs": [
        {
          "output_type": "stream",
          "name": "stdout",
          "text": [
            "+-------------------+--------------------+--------------------+----------+\n",
            "|           features|       rawPrediction|         probability|prediction|\n",
            "+-------------------+--------------------+--------------------+----------+\n",
            "|[1.2,18.0,10.0,7.0]|[7.52994477364794...|[0.99345545580507...|       0.0|\n",
            "+-------------------+--------------------+--------------------+----------+\n",
            "\n"
          ]
        }
      ]
    }
  ]
}